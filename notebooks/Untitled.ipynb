{
 "cells": [
  {
   "cell_type": "code",
   "execution_count": 20,
   "metadata": {},
   "outputs": [
    {
     "name": "stderr",
     "output_type": "stream",
     "text": [
      "/home/jupyter/de_a3/notebooks/feature_engineer.py:14: SettingWithCopyWarning: \n",
      "A value is trying to be set on a copy of a slice from a DataFrame.\n",
      "Try using .loc[row_indexer,col_indexer] = value instead\n",
      "\n",
      "See the caveats in the documentation: https://pandas.pydata.org/pandas-docs/stable/user_guide/indexing.html#returning-a-view-versus-a-copy\n",
      "  X['max_' + feature] = dataset.groupby('engine_id')[feature].cummax()\n"
     ]
    },
    {
     "name": "stdout",
     "output_type": "stream",
     "text": [
      "{'alpha': 0.9, 'ccp_alpha': 0.0, 'criterion': 'friedman_mse', 'init': None, 'learning_rate': 0.1, 'loss': 'ls', 'max_depth': 3, 'max_features': None, 'max_leaf_nodes': None, 'min_impurity_decrease': 0.0, 'min_impurity_split': None, 'min_samples_leaf': 1, 'min_samples_split': 2, 'min_weight_fraction_leaf': 0.0, 'n_estimators': 100, 'n_iter_no_change': None, 'presort': 'deprecated', 'random_state': None, 'subsample': 1.0, 'tol': 0.0001, 'validation_fraction': 0.1, 'verbose': 0, 'warm_start': False}\n"
     ]
    }
   ],
   "source": [
    "import pandas as pd\n",
    "import _pickle as cPickle\n",
    "import feature_engineer\n",
    "\n",
    "df = pd.read_json('predict_data.json')\n",
    "model = cPickle.load(open('model_store_vanilla_vanilla_gbr.pickle', 'rb'))\n",
    "df = feature_engineer.clean_data(df)\n",
    "x_predict = df[df.columns[2:]]\n",
    "js = model.predict(x_predict)\n",
    "print(model.get_params())\n"
   ]
  },
  {
   "cell_type": "code",
   "execution_count": 18,
   "metadata": {},
   "outputs": [
    {
     "data": {
      "text/plain": [
       "array([206.67270796, 202.05443849, 198.17252016, ...,  32.02403441,\n",
       "        27.12719831,  20.91827298])"
      ]
     },
     "execution_count": 18,
     "metadata": {},
     "output_type": "execute_result"
    }
   ],
   "source": [
    "js\n"
   ]
  },
  {
   "cell_type": "code",
   "execution_count": 21,
   "metadata": {},
   "outputs": [
    {
     "name": "stdout",
     "output_type": "stream",
     "text": [
      "GradientBoostingRegressor()\n"
     ]
    }
   ],
   "source": [
    "print(model)"
   ]
  },
  {
   "cell_type": "code",
   "execution_count": 24,
   "metadata": {},
   "outputs": [
    {
     "name": "stdout",
     "output_type": "stream",
     "text": [
      "[0.00000000e+00 0.00000000e+00 0.00000000e+00 0.00000000e+00\n",
      " 9.38001569e-04 0.00000000e+00 1.07780239e-02 0.00000000e+00\n",
      " 0.00000000e+00 2.21225998e-03 0.00000000e+00 3.61714554e-05\n",
      " 0.00000000e+00 1.09888349e-02 3.15506062e-03 0.00000000e+00\n",
      " 1.56292270e-04 1.80937045e-03 0.00000000e+00 7.79312508e-04\n",
      " 0.00000000e+00 0.00000000e+00 1.66055813e-03 8.17530998e-04\n",
      " 3.22193089e-02 2.41978954e-02 0.00000000e+00 4.00957138e-04\n",
      " 1.15509624e-03 0.00000000e+00 0.00000000e+00 0.00000000e+00\n",
      " 0.00000000e+00 0.00000000e+00 0.00000000e+00 0.00000000e+00\n",
      " 3.44053326e-03 7.78144316e-03 0.00000000e+00 5.36755570e-02\n",
      " 1.48632873e-02 0.00000000e+00 2.14007767e-01 3.00327018e-02\n",
      " 0.00000000e+00 0.00000000e+00 0.00000000e+00 0.00000000e+00\n",
      " 0.00000000e+00 0.00000000e+00 0.00000000e+00 1.51510654e-02\n",
      " 4.40605545e-02 0.00000000e+00 9.10970315e-03 9.54562908e-03\n",
      " 0.00000000e+00 1.86085532e-02 1.44816199e-02 0.00000000e+00\n",
      " 0.00000000e+00 0.00000000e+00 0.00000000e+00 2.74910298e-01\n",
      " 1.47338481e-03 0.00000000e+00 1.16894306e-02 1.16891214e-02\n",
      " 0.00000000e+00 7.01907042e-03 6.90646148e-03 0.00000000e+00\n",
      " 5.22785542e-02 7.89297865e-03 0.00000000e+00 7.56708252e-03\n",
      " 5.32253205e-03 0.00000000e+00 0.00000000e+00 0.00000000e+00\n",
      " 0.00000000e+00 1.98030892e-04 5.00757561e-04 0.00000000e+00\n",
      " 0.00000000e+00 0.00000000e+00 0.00000000e+00 0.00000000e+00\n",
      " 0.00000000e+00 0.00000000e+00 3.82585805e-02 2.95505204e-03\n",
      " 0.00000000e+00 2.45095691e-02 2.07656145e-02 3.91998053e-07]\n"
     ]
    }
   ],
   "source": [
    "print(model.feature_importances_)"
   ]
  },
  {
   "cell_type": "code",
   "execution_count": null,
   "metadata": {},
   "outputs": [],
   "source": [
    "[0.00000000e+00 0.00000000e+00 0.00000000e+00 0.00000000e+00\n",
    " 9.38001569e-04 0.00000000e+00 1.07780239e-02 0.00000000e+00\n",
    " 0.00000000e+00 2.21225998e-03 0.00000000e+00 3.61714554e-05\n",
    " 0.00000000e+00 1.09888349e-02 3.15506062e-03 0.00000000e+00\n",
    " 1.56292270e-04 1.80937045e-03 0.00000000e+00 7.79312508e-04\n",
    " 0.00000000e+00 0.00000000e+00 1.66055813e-03 8.17530998e-04\n",
    " 3.22193089e-02 2.41978954e-02 0.00000000e+00 4.00957138e-04\n",
    " 1.15509624e-03 0.00000000e+00 0.00000000e+00 0.00000000e+00\n",
    " 0.00000000e+00 0.00000000e+00 0.00000000e+00 0.00000000e+00\n",
    " 3.44053326e-03 7.78144316e-03 0.00000000e+00 5.36755570e-02\n",
    " 1.48632873e-02 0.00000000e+00 2.14007767e-01 3.00327018e-02\n",
    " 0.00000000e+00 0.00000000e+00 0.00000000e+00 0.00000000e+00\n",
    " 0.00000000e+00 0.00000000e+00 0.00000000e+00 1.51510654e-02\n",
    " 4.40605545e-02 0.00000000e+00 9.10970315e-03 9.54562908e-03\n",
    " 0.00000000e+00 1.86085532e-02 1.44816199e-02 0.00000000e+00\n",
    " 0.00000000e+00 0.00000000e+00 0.00000000e+00 2.74910298e-01\n",
    " 1.47338481e-03 0.00000000e+00 1.16894306e-02 1.16891214e-02\n",
    " 0.00000000e+00 7.01907042e-03 6.90646148e-03 0.00000000e+00\n",
    " 5.22785542e-02 7.89297865e-03 0.00000000e+00 7.56708252e-03\n",
    " 5.32253205e-03 0.00000000e+00 0.00000000e+00 0.00000000e+00\n",
    " 0.00000000e+00 1.98030892e-04 5.00757561e-04 0.00000000e+00\n",
    " 0.00000000e+00 0.00000000e+00 0.00000000e+00 0.00000000e+00\n",
    " 0.00000000e+00 0.00000000e+00 3.82585805e-02 2.95505204e-03\n",
    " 0.00000000e+00 2.45095691e-02 2.07656145e-02 3.91998053e-07]"
   ]
  }
 ],
 "metadata": {
  "environment": {
   "name": "common-cpu.m59",
   "type": "gcloud",
   "uri": "gcr.io/deeplearning-platform-release/base-cpu:m59"
  },
  "kernelspec": {
   "display_name": "Python 3",
   "language": "python",
   "name": "python3"
  },
  "language_info": {
   "codemirror_mode": {
    "name": "ipython",
    "version": 3
   },
   "file_extension": ".py",
   "mimetype": "text/x-python",
   "name": "python",
   "nbconvert_exporter": "python",
   "pygments_lexer": "ipython3",
   "version": "3.7.8"
  }
 },
 "nbformat": 4,
 "nbformat_minor": 4
}
