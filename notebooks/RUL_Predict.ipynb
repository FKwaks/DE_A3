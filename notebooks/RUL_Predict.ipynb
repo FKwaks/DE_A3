{
 "cells": [
  {
   "cell_type": "markdown",
   "metadata": {},
   "source": [
    "# Code Business Analytics Assignment 3 - group ..."
   ]
  },
  {
   "cell_type": "markdown",
   "metadata": {},
   "source": [
    "--------------------------------------------------"
   ]
  },
  {
   "cell_type": "markdown",
   "metadata": {},
   "source": [
    "# Importing Data"
   ]
  },
  {
   "cell_type": "code",
   "execution_count": 22,
   "metadata": {},
   "outputs": [
    {
     "name": "stdout",
     "output_type": "stream",
     "text": [
      "Collecting google\n",
      "  Downloading google-3.0.0-py2.py3-none-any.whl (45 kB)\n",
      "Requirement already satisfied: beautifulsoup4 in c:\\users\\s159907\\anaconda3\\lib\\site-packages (from google) (4.9.1)\n",
      "Requirement already satisfied: soupsieve>1.2 in c:\\users\\s159907\\anaconda3\\lib\\site-packages (from beautifulsoup4->google) (2.0.1)\n",
      "Installing collected packages: google\n",
      "Successfully installed google-3.0.0\n"
     ]
    }
   ],
   "source": [
    "!pip install google.cloud"
   ]
  },
  {
   "cell_type": "code",
   "execution_count": null,
   "metadata": {},
   "outputs": [],
   "source": [
    "import pandas as pd\n",
    "import json\n",
    "import numpy as np\n",
    "from sklearn.cluster import KMeans\n",
    "from sklearn import ensemble\n",
    "import pandas as pd\n",
    "import numpy as np\n",
    "from sklearn.model_selection import train_test_split, RandomizedSearchCV\n",
    "from sklearn.feature_selection import RFE\n",
    "from sklearn.svm import SVR\n",
    "from sklearn import metrics\n",
    "from pprint import pprint\n",
    "\n",
    "import _pickle as cPickle\n",
    "# from google.cloud import storage"
   ]
  },
  {
   "cell_type": "code",
   "execution_count": 3,
   "metadata": {},
   "outputs": [],
   "source": [
    "data_path = 'Data/DataTrain.txt'\n",
    "feature_path = 'Features/'\n",
    "model_path = 'model/'\n",
    "tmp_dir = 'tmp/'"
   ]
  },
  {
   "cell_type": "code",
   "execution_count": 11,
   "metadata": {},
   "outputs": [
    {
     "data": {
      "text/html": [
       "<div>\n",
       "<style scoped>\n",
       "    .dataframe tbody tr th:only-of-type {\n",
       "        vertical-align: middle;\n",
       "    }\n",
       "\n",
       "    .dataframe tbody tr th {\n",
       "        vertical-align: top;\n",
       "    }\n",
       "\n",
       "    .dataframe thead th {\n",
       "        text-align: right;\n",
       "    }\n",
       "</style>\n",
       "<table border=\"1\" class=\"dataframe\">\n",
       "  <thead>\n",
       "    <tr style=\"text-align: right;\">\n",
       "      <th></th>\n",
       "      <th>engine_id</th>\n",
       "      <th>cycle</th>\n",
       "      <th>RUL</th>\n",
       "      <th>setting1</th>\n",
       "      <th>setting2</th>\n",
       "      <th>setting3</th>\n",
       "      <th>s1</th>\n",
       "      <th>s2</th>\n",
       "      <th>s3</th>\n",
       "      <th>s4</th>\n",
       "      <th>...</th>\n",
       "      <th>s12</th>\n",
       "      <th>s13</th>\n",
       "      <th>s14</th>\n",
       "      <th>s15</th>\n",
       "      <th>s16</th>\n",
       "      <th>s17</th>\n",
       "      <th>s18</th>\n",
       "      <th>s19</th>\n",
       "      <th>s20</th>\n",
       "      <th>s21</th>\n",
       "    </tr>\n",
       "  </thead>\n",
       "  <tbody>\n",
       "    <tr>\n",
       "      <th>0</th>\n",
       "      <td>1</td>\n",
       "      <td>1</td>\n",
       "      <td>192</td>\n",
       "      <td>-0.0007</td>\n",
       "      <td>-0.0004</td>\n",
       "      <td>100.0</td>\n",
       "      <td>518.67</td>\n",
       "      <td>641.82</td>\n",
       "      <td>1589.70</td>\n",
       "      <td>1400.60</td>\n",
       "      <td>...</td>\n",
       "      <td>521.66</td>\n",
       "      <td>2388.02</td>\n",
       "      <td>8138.62</td>\n",
       "      <td>8.4195</td>\n",
       "      <td>0.03</td>\n",
       "      <td>392</td>\n",
       "      <td>2388</td>\n",
       "      <td>100.0</td>\n",
       "      <td>39.06</td>\n",
       "      <td>23.4190</td>\n",
       "    </tr>\n",
       "    <tr>\n",
       "      <th>1</th>\n",
       "      <td>1</td>\n",
       "      <td>2</td>\n",
       "      <td>191</td>\n",
       "      <td>0.0019</td>\n",
       "      <td>-0.0003</td>\n",
       "      <td>100.0</td>\n",
       "      <td>518.67</td>\n",
       "      <td>642.15</td>\n",
       "      <td>1591.82</td>\n",
       "      <td>1403.14</td>\n",
       "      <td>...</td>\n",
       "      <td>522.28</td>\n",
       "      <td>2388.07</td>\n",
       "      <td>8131.49</td>\n",
       "      <td>8.4318</td>\n",
       "      <td>0.03</td>\n",
       "      <td>392</td>\n",
       "      <td>2388</td>\n",
       "      <td>100.0</td>\n",
       "      <td>39.00</td>\n",
       "      <td>23.4236</td>\n",
       "    </tr>\n",
       "    <tr>\n",
       "      <th>2</th>\n",
       "      <td>1</td>\n",
       "      <td>3</td>\n",
       "      <td>190</td>\n",
       "      <td>-0.0043</td>\n",
       "      <td>0.0003</td>\n",
       "      <td>100.0</td>\n",
       "      <td>518.67</td>\n",
       "      <td>642.35</td>\n",
       "      <td>1587.99</td>\n",
       "      <td>1404.20</td>\n",
       "      <td>...</td>\n",
       "      <td>522.42</td>\n",
       "      <td>2388.03</td>\n",
       "      <td>8133.23</td>\n",
       "      <td>8.4178</td>\n",
       "      <td>0.03</td>\n",
       "      <td>390</td>\n",
       "      <td>2388</td>\n",
       "      <td>100.0</td>\n",
       "      <td>38.95</td>\n",
       "      <td>23.3442</td>\n",
       "    </tr>\n",
       "    <tr>\n",
       "      <th>3</th>\n",
       "      <td>1</td>\n",
       "      <td>4</td>\n",
       "      <td>189</td>\n",
       "      <td>0.0007</td>\n",
       "      <td>0.0000</td>\n",
       "      <td>100.0</td>\n",
       "      <td>518.67</td>\n",
       "      <td>642.35</td>\n",
       "      <td>1582.79</td>\n",
       "      <td>1401.87</td>\n",
       "      <td>...</td>\n",
       "      <td>522.86</td>\n",
       "      <td>2388.08</td>\n",
       "      <td>8133.83</td>\n",
       "      <td>8.3682</td>\n",
       "      <td>0.03</td>\n",
       "      <td>392</td>\n",
       "      <td>2388</td>\n",
       "      <td>100.0</td>\n",
       "      <td>38.88</td>\n",
       "      <td>23.3739</td>\n",
       "    </tr>\n",
       "    <tr>\n",
       "      <th>4</th>\n",
       "      <td>1</td>\n",
       "      <td>5</td>\n",
       "      <td>188</td>\n",
       "      <td>-0.0019</td>\n",
       "      <td>-0.0002</td>\n",
       "      <td>100.0</td>\n",
       "      <td>518.67</td>\n",
       "      <td>642.37</td>\n",
       "      <td>1582.85</td>\n",
       "      <td>1406.22</td>\n",
       "      <td>...</td>\n",
       "      <td>522.19</td>\n",
       "      <td>2388.04</td>\n",
       "      <td>8133.80</td>\n",
       "      <td>8.4294</td>\n",
       "      <td>0.03</td>\n",
       "      <td>393</td>\n",
       "      <td>2388</td>\n",
       "      <td>100.0</td>\n",
       "      <td>38.90</td>\n",
       "      <td>23.4044</td>\n",
       "    </tr>\n",
       "  </tbody>\n",
       "</table>\n",
       "<p>5 rows × 27 columns</p>\n",
       "</div>"
      ],
      "text/plain": [
       "   engine_id  cycle  RUL  setting1  setting2  setting3      s1      s2  \\\n",
       "0          1      1  192   -0.0007   -0.0004     100.0  518.67  641.82   \n",
       "1          1      2  191    0.0019   -0.0003     100.0  518.67  642.15   \n",
       "2          1      3  190   -0.0043    0.0003     100.0  518.67  642.35   \n",
       "3          1      4  189    0.0007    0.0000     100.0  518.67  642.35   \n",
       "4          1      5  188   -0.0019   -0.0002     100.0  518.67  642.37   \n",
       "\n",
       "        s3       s4  ...     s12      s13      s14     s15   s16  s17   s18  \\\n",
       "0  1589.70  1400.60  ...  521.66  2388.02  8138.62  8.4195  0.03  392  2388   \n",
       "1  1591.82  1403.14  ...  522.28  2388.07  8131.49  8.4318  0.03  392  2388   \n",
       "2  1587.99  1404.20  ...  522.42  2388.03  8133.23  8.4178  0.03  390  2388   \n",
       "3  1582.79  1401.87  ...  522.86  2388.08  8133.83  8.3682  0.03  392  2388   \n",
       "4  1582.85  1406.22  ...  522.19  2388.04  8133.80  8.4294  0.03  393  2388   \n",
       "\n",
       "     s19    s20      s21  \n",
       "0  100.0  39.06  23.4190  \n",
       "1  100.0  39.00  23.4236  \n",
       "2  100.0  38.95  23.3442  \n",
       "3  100.0  38.88  23.3739  \n",
       "4  100.0  38.90  23.4044  \n",
       "\n",
       "[5 rows x 27 columns]"
      ]
     },
     "execution_count": 11,
     "metadata": {},
     "output_type": "execute_result"
    }
   ],
   "source": [
    "#Importing the data from .txt file\n",
    "data = pd.read_csv(data_path, sep=\" \", header=None)\n",
    "data.columns = ['engine_id', 'cycle', 'setting1', 'setting2', 'setting3', 's1', 's2', 's3', 's4', 's5', 's6', 's7', 's8', 's9', 's10', 's11', 's12', 's13', 's14', 's15', 's16', 's17', 's18', 's19', 's20', 's21', 'NA', 'NA']\n",
    "del data['NA']\n",
    "\n",
    "# Creating and adding the RUL to the dataframe\n",
    "RUL_list = []\n",
    "for engine in set(data['engine_id']):\n",
    "    max_cycle = data.loc[data['engine_id'] == engine].cycle.max()\n",
    "    \n",
    "    for cycle in list(data.loc[data['engine_id'] == engine].cycle):\n",
    "        RUL_list.append(max_cycle - cycle +1)    \n",
    "        \n",
    "\n",
    "data.insert(2, 'RUL', RUL_list)\n",
    "\n",
    "data.head()\n",
    "dataset = data\n",
    "dataset.head()"
   ]
  },
  {
   "cell_type": "code",
   "execution_count": 24,
   "metadata": {},
   "outputs": [],
   "source": [
    "engine = dataset.iloc[:,0].to_list()\n",
    "cycle = dataset.iloc[:,1].to_list()\n",
    "\n",
    "# Clustering the data\n",
    "X_cluster = data[['setting1', 'setting2', 'setting3']]\n",
    "\n",
    "# creates the clusters\n",
    "kmeans = KMeans(n_clusters=3).fit(X_cluster)\n",
    "data['settings_clusters'] = kmeans.predict(X_cluster)\n",
    "\n",
    "features = data.columns[3:-1]\n",
    "for feature in features:\n",
    "    # Creating min, max and delta variables\n",
    "    data['max_' + feature] = data.groupby('engine_id')[feature].cummax()\n",
    "    data['min_' + feature] = data.groupby('engine_id')[feature].cummin()\n",
    "\n",
    "    data['delta_' + feature] = data.groupby('engine_id')[feature].diff()\n",
    "    data['delta_' + feature].fillna(0, inplace=True)\n",
    "\n",
    "data.to_parquet(feature_path + 'RUL_features.parquet', compression='GZIP')"
   ]
  },
  {
   "cell_type": "code",
   "execution_count": 13,
   "metadata": {},
   "outputs": [
    {
     "name": "stdout",
     "output_type": "stream",
     "text": [
      "engine_id\n",
      "cycle\n",
      "RUL\n",
      "setting1\n",
      "setting2\n",
      "setting3\n",
      "s1\n",
      "s2\n",
      "s3\n",
      "s4\n",
      "s5\n",
      "s6\n",
      "s7\n",
      "s8\n",
      "s9\n",
      "s10\n",
      "s11\n",
      "s12\n",
      "s13\n",
      "s14\n",
      "s15\n",
      "s16\n",
      "s17\n",
      "s18\n",
      "s19\n",
      "s20\n",
      "s21\n",
      "settings_clusters\n",
      "max_setting1\n",
      "min_setting1\n",
      "delta_setting1\n",
      "max_setting2\n",
      "min_setting2\n",
      "delta_setting2\n",
      "max_setting3\n",
      "min_setting3\n",
      "delta_setting3\n",
      "max_s1\n",
      "min_s1\n",
      "delta_s1\n",
      "max_s2\n",
      "min_s2\n",
      "delta_s2\n",
      "max_s3\n",
      "min_s3\n",
      "delta_s3\n",
      "max_s4\n",
      "min_s4\n",
      "delta_s4\n",
      "max_s5\n",
      "min_s5\n",
      "delta_s5\n",
      "max_s6\n",
      "min_s6\n",
      "delta_s6\n",
      "max_s7\n",
      "min_s7\n",
      "delta_s7\n",
      "max_s8\n",
      "min_s8\n",
      "delta_s8\n",
      "max_s9\n",
      "min_s9\n",
      "delta_s9\n",
      "max_s10\n",
      "min_s10\n",
      "delta_s10\n",
      "max_s11\n",
      "min_s11\n",
      "delta_s11\n",
      "max_s12\n",
      "min_s12\n",
      "delta_s12\n",
      "max_s13\n",
      "min_s13\n",
      "delta_s13\n",
      "max_s14\n",
      "min_s14\n",
      "delta_s14\n",
      "max_s15\n",
      "min_s15\n",
      "delta_s15\n",
      "max_s16\n",
      "min_s16\n",
      "delta_s16\n",
      "max_s17\n",
      "min_s17\n",
      "delta_s17\n",
      "max_s18\n",
      "min_s18\n",
      "delta_s18\n",
      "max_s19\n",
      "min_s19\n",
      "delta_s19\n",
      "max_s20\n",
      "min_s20\n",
      "delta_s20\n",
      "max_s21\n",
      "min_s21\n",
      "delta_s21\n"
     ]
    }
   ],
   "source": [
    "[print(column) for column in data.columns];"
   ]
  },
  {
   "cell_type": "code",
   "execution_count": 39,
   "metadata": {},
   "outputs": [],
   "source": [
    "random_engine = np.random.randint(1,100)\n",
    "val_data = data.loc[data.engine_id == random_engine].iloc[:,2:].copy()    \n",
    "RUL_df = data.loc[data.engine_id != random_engine].iloc[:,2:].copy()"
   ]
  },
  {
   "cell_type": "code",
   "execution_count": 44,
   "metadata": {},
   "outputs": [],
   "source": [
    "labels = RUL_df['RUL']\n",
    "features = RUL_df.iloc[:,1:]\n",
    "X_train, X_test, y_train, y_test = train_test_split(features, labels, test_size = 0.2, random_state = 42)"
   ]
  },
  {
   "cell_type": "code",
   "execution_count": 45,
   "metadata": {},
   "outputs": [
    {
     "data": {
      "text/plain": [
       "GradientBoostingRegressor()"
      ]
     },
     "execution_count": 45,
     "metadata": {},
     "output_type": "execute_result"
    }
   ],
   "source": [
    "gbr_non_opt = ensemble.GradientBoostingRegressor()\n",
    "gbr_non_opt.fit(X_train, y_train)"
   ]
  },
  {
   "cell_type": "code",
   "execution_count": 48,
   "metadata": {},
   "outputs": [
    {
     "name": "stdout",
     "output_type": "stream",
     "text": [
      "MAE: 9.200445326669886\n",
      "MSE: 142.63671398695553\n"
     ]
    }
   ],
   "source": [
    "pred_non_opt = gbr_non_opt.predict(X_test)\n",
    "print('MAE: %s' % metrics.mean_absolute_error(y_test, pred_non_opt))\n",
    "print('MSE: %s' % metrics.mean_squared_error(y_test, pred_non_opt))"
   ]
  },
  {
   "cell_type": "code",
   "execution_count": 49,
   "metadata": {},
   "outputs": [],
   "source": [
    "n_estimators = [150, 250, 300, 400]\n",
    "max_depth = [5, 10, 50, 100, None]\n",
    "max_features = ['auto', 'sqrt']\n",
    "min_samples_split= [2, 3, 5, 10]\n",
    "min_samples_leaf= [1, 2, 4]\n",
    "\n",
    "random_grid = {'n_estimators' : n_estimators,\n",
    "               'max_depth' : max_depth,\n",
    "               'max_features' : max_features,\n",
    "               'min_samples_split' : min_samples_split,\n",
    "               'min_samples_leaf' : min_samples_leaf\n",
    "}"
   ]
  },
  {
   "cell_type": "code",
   "execution_count": null,
   "metadata": {},
   "outputs": [
    {
     "name": "stdout",
     "output_type": "stream",
     "text": [
      "Fitting 3 folds for each of 10 candidates, totalling 30 fits\n",
      "[CV] n_estimators=300, min_samples_split=5, min_samples_leaf=4, max_features=sqrt, max_depth=None \n"
     ]
    },
    {
     "name": "stderr",
     "output_type": "stream",
     "text": [
      "[Parallel(n_jobs=1)]: Using backend SequentialBackend with 1 concurrent workers.\n"
     ]
    },
    {
     "name": "stdout",
     "output_type": "stream",
     "text": [
      "[CV]  n_estimators=300, min_samples_split=5, min_samples_leaf=4, max_features=sqrt, max_depth=None, total= 1.1min\n",
      "[CV] n_estimators=300, min_samples_split=5, min_samples_leaf=4, max_features=sqrt, max_depth=None \n"
     ]
    },
    {
     "name": "stderr",
     "output_type": "stream",
     "text": [
      "[Parallel(n_jobs=1)]: Done   1 out of   1 | elapsed:  1.1min remaining:    0.0s\n"
     ]
    },
    {
     "name": "stdout",
     "output_type": "stream",
     "text": [
      "[CV]  n_estimators=300, min_samples_split=5, min_samples_leaf=4, max_features=sqrt, max_depth=None, total= 1.1min\n",
      "[CV] n_estimators=300, min_samples_split=5, min_samples_leaf=4, max_features=sqrt, max_depth=None \n",
      "[CV]  n_estimators=300, min_samples_split=5, min_samples_leaf=4, max_features=sqrt, max_depth=None, total= 1.1min\n",
      "[CV] n_estimators=300, min_samples_split=3, min_samples_leaf=2, max_features=sqrt, max_depth=100 \n",
      "[CV]  n_estimators=300, min_samples_split=3, min_samples_leaf=2, max_features=sqrt, max_depth=100, total= 1.1min\n",
      "[CV] n_estimators=300, min_samples_split=3, min_samples_leaf=2, max_features=sqrt, max_depth=100 \n",
      "[CV]  n_estimators=300, min_samples_split=3, min_samples_leaf=2, max_features=sqrt, max_depth=100, total= 1.3min\n",
      "[CV] n_estimators=300, min_samples_split=3, min_samples_leaf=2, max_features=sqrt, max_depth=100 \n",
      "[CV]  n_estimators=300, min_samples_split=3, min_samples_leaf=2, max_features=sqrt, max_depth=100, total= 1.2min\n",
      "[CV] n_estimators=300, min_samples_split=10, min_samples_leaf=2, max_features=auto, max_depth=10 \n",
      "[CV]  n_estimators=300, min_samples_split=10, min_samples_leaf=2, max_features=auto, max_depth=10, total= 8.1min\n",
      "[CV] n_estimators=300, min_samples_split=10, min_samples_leaf=2, max_features=auto, max_depth=10 \n",
      "[CV]  n_estimators=300, min_samples_split=10, min_samples_leaf=2, max_features=auto, max_depth=10, total= 8.1min\n",
      "[CV] n_estimators=300, min_samples_split=10, min_samples_leaf=2, max_features=auto, max_depth=10 \n",
      "[CV]  n_estimators=300, min_samples_split=10, min_samples_leaf=2, max_features=auto, max_depth=10, total= 8.1min\n",
      "[CV] n_estimators=250, min_samples_split=3, min_samples_leaf=4, max_features=auto, max_depth=50 \n",
      "[CV]  n_estimators=250, min_samples_split=3, min_samples_leaf=4, max_features=auto, max_depth=50, total=24.0min\n",
      "[CV] n_estimators=250, min_samples_split=3, min_samples_leaf=4, max_features=auto, max_depth=50 \n"
     ]
    }
   ],
   "source": [
    "gbr = ensemble.GradientBoostingRegressor()\n",
    "gbr_random = RandomizedSearchCV(estimator = gbr, param_distributions = random_grid, n_iter = 10, cv = 3, verbose = 2)\n",
    "gbr_random.fit(X_train, y_train)"
   ]
  },
  {
   "cell_type": "code",
   "execution_count": null,
   "metadata": {},
   "outputs": [],
   "source": [
    "with open(best_param.json, 'w') as outfile:\n",
    "    json.dump(gbr_random.best_params_, outfile)"
   ]
  },
  {
   "cell_type": "code",
   "execution_count": null,
   "metadata": {},
   "outputs": [],
   "source": [
    "pprint(gbr_random.best_params_)"
   ]
  },
  {
   "cell_type": "code",
   "execution_count": null,
   "metadata": {},
   "outputs": [],
   "source": [
    "X_val, y_val = val_data.iloc[:,1:], val_data.iloc[:,0]\n",
    "\n",
    "val_pred_non_opt = gbr_non_opt.predict(X_val)\n",
    "val_pred_random = gbr_random.predict(X_val)\n",
    "print('MAE: %s' % metrics.mean_absolute_error(y_val val_pred_non_opt))\n",
    "print('MSE: %s' % metrics.mean_squared_error(y_val, val_pred_non_opt))\n",
    "print('MAE: %s' % metrics.mean_absolute_error(y_val, val_pred_random))\n",
    "print('MSE: %s' % metrics.mean_squared_error(y_val, val_pred_random))"
   ]
  },
  {
   "cell_type": "code",
   "execution_count": null,
   "metadata": {},
   "outputs": [],
   "source": [
    "if metrics.mean_absolute_error(y_val val_pred_non_opt)) < metrics.mean_absolute_error(y_val, val_pred_random)):\n",
    "    gbr_best = gbr_random.best_estimator\n",
    "    print('optimized version is best')\n",
    "else:\n",
    "    gbr_best = gbr_non_opt\n",
    "    print('non optimized version is best')"
   ]
  },
  {
   "cell_type": "code",
   "execution_count": null,
   "metadata": {},
   "outputs": [],
   "source": [
    "with open(tmp_dir + 'model.pickle', 'wb') as f:\n",
    "    cPickle.dump(gbr_best, f, -1)"
   ]
  },
  {
   "cell_type": "code",
   "execution_count": null,
   "metadata": {},
   "outputs": [],
   "source": [
    "client = storage.Client()\n",
    "bucket = client.get_bucket('RUL_prediction')\n",
    "blob = bucket.blob(model_path+'model.pickle')\n",
    "blob.upload_from_filename('/tmp/model.pickle')"
   ]
  }
 ],
 "metadata": {
  "kernelspec": {
   "display_name": "Python 3",
   "language": "python",
   "name": "python3"
  },
  "language_info": {
   "codemirror_mode": {
    "name": "ipython",
    "version": 3
   },
   "file_extension": ".py",
   "mimetype": "text/x-python",
   "name": "python",
   "nbconvert_exporter": "python",
   "pygments_lexer": "ipython3",
   "version": "3.8.3"
  }
 },
 "nbformat": 4,
 "nbformat_minor": 4
}
