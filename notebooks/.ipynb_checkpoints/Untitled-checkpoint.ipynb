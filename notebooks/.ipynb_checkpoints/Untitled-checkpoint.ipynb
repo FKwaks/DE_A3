{
 "cells": [
  {
   "cell_type": "code",
   "execution_count": 6,
   "metadata": {},
   "outputs": [],
   "source": [
    "import pandas as pd\n",
    "import _pickle as cPickle\n",
    "\n",
    "df = pd.read_json('predict_data.json')\n",
    "model = cPickle.load(open('model_store_vanilla_vanilla_gbr.pickle', 'rb'))\n",
    "\n",
    "x_predict = df[df.columns[2:]]\n",
    "js = model.predict(x_predict)\n"
   ]
  }
 ],
 "metadata": {
  "environment": {
   "name": "common-cpu.m59",
   "type": "gcloud",
   "uri": "gcr.io/deeplearning-platform-release/base-cpu:m59"
  },
  "kernelspec": {
   "display_name": "Python 3",
   "language": "python",
   "name": "python3"
  },
  "language_info": {
   "codemirror_mode": {
    "name": "ipython",
    "version": 3
   },
   "file_extension": ".py",
   "mimetype": "text/x-python",
   "name": "python",
   "nbconvert_exporter": "python",
   "pygments_lexer": "ipython3",
   "version": "3.7.8"
  }
 },
 "nbformat": 4,
 "nbformat_minor": 4
}
